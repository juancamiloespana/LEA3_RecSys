{
 "cells": [
  {
   "cell_type": "code",
   "execution_count": 10,
   "metadata": {
    "colab": {
     "base_uri": "https://localhost:8080/"
    },
    "executionInfo": {
     "elapsed": 1258,
     "status": "ok",
     "timestamp": 1746637345374,
     "user": {
      "displayName": "Juan Camilo España Lopera",
      "userId": "00562063450330724580"
     },
     "user_tz": 300
    },
    "id": "pK5x1M62av9l",
    "outputId": "616cc2eb-8d9f-49ac-a087-1ea8fa0a53af"
   },
   "outputs": [
    {
     "name": "stdout",
     "output_type": "stream",
     "text": [
      "Drive already mounted at /content/drive; to attempt to forcibly remount, call drive.mount(\"/content/drive\", force_remount=True).\n"
     ]
    }
   ],
   "source": [
    "from google.colab import drive\n",
    "import sys\n",
    "import os\n",
    "\n",
    "drive.mount('/content/drive')\n",
    "\n",
    "# Personalized path to your project directory\n",
    "path = '/content/drive/MyDrive/cod/LEA3_RecSys' # Replace with your actual path\n",
    "\n",
    "# Add the path to sys.path\n",
    "sys.path.append(path)\n",
    "os.chdir(path)\n",
    "\n"
   ]
  },
  {
   "cell_type": "code",
   "execution_count": 11,
   "metadata": {
    "executionInfo": {
     "elapsed": 3,
     "status": "ok",
     "timestamp": 1746637345379,
     "user": {
      "displayName": "Juan Camilo España Lopera",
      "userId": "00562063450330724580"
     },
     "user_tz": 300
    },
    "id": "LpyTfoLra5uA"
   },
   "outputs": [],
   "source": [
    "import numpy as np\n",
    "import pandas as pd\n",
    "import sqlite3 as sql\n",
    "from sklearn.preprocessing import MinMaxScaler\n",
    "from ipywidgets import interact ## para análisis interactivo\n",
    "from sklearn import neighbors ### basado en contenido un solo producto consumido\n",
    "import joblib\n",
    "\n",
    "\n"
   ]
  },
  {
   "cell_type": "code",
   "execution_count": 12,
   "metadata": {
    "colab": {
     "base_uri": "https://localhost:8080/"
    },
    "executionInfo": {
     "elapsed": 341,
     "status": "ok",
     "timestamp": 1746637345722,
     "user": {
      "displayName": "Juan Camilo España Lopera",
      "userId": "00562063450330724580"
     },
     "user_tz": 300
    },
    "id": "acI4EL_sj0ig",
    "outputId": "fdea3ee4-c9c5-477a-e259-619a1dd5d425"
   },
   "outputs": [
    {
     "name": "stdout",
     "output_type": "stream",
     "text": [
      "[('books',), ('book_ratings',), ('users',), ('usuarios_sel',), ('books_sel',), ('ratings_final',), ('users_final',), ('books_final',), ('full_ratings',)]\n"
     ]
    }
   ],
   "source": [
    "\n",
    "#############################################\n",
    "#### conectar_base_de_Datos#################\n",
    "############################################\n",
    "\n",
    "conn=sql.connect('data/db_books2')\n",
    "cur=conn.cursor()\n",
    "\n",
    "cur.execute(\"SELECT name FROM sqlite_master WHERE type='table';\")\n",
    "print(cur.fetchall())\n"
   ]
  },
  {
   "cell_type": "code",
   "execution_count": 13,
   "metadata": {
    "colab": {
     "base_uri": "https://localhost:8080/",
     "height": 444,
     "referenced_widgets": [
      "b7673f2e82334ced9cc789359778c061",
      "a1bbdbb63ed04c4f99c903a94362bfed",
      "aea6c0c935c045388fa6684fcfdfebfe",
      "9461f79bfd264dbe818cd7de648c7bcf",
      "2d80dd6d4b80469da692022f496ebcf8",
      "e646c92b4f1d4cb4896676b102279615",
      "56292e5613ba4871aee7c76750af574a"
     ]
    },
    "executionInfo": {
     "elapsed": 1319,
     "status": "ok",
     "timestamp": 1746637347043,
     "user": {
      "displayName": "Juan Camilo España Lopera",
      "userId": "00562063450330724580"
     },
     "user_tz": 300
    },
    "id": "62YiuXumj6_W",
    "outputId": "022d2d7f-9af3-4543-abd4-26ab61bfe089"
   },
   "outputs": [
    {
     "data": {
      "application/vnd.jupyter.widget-view+json": {
       "model_id": "b7673f2e82334ced9cc789359778c061",
       "version_major": 2,
       "version_minor": 0
      },
      "text/plain": [
       "interactive(children=(Dropdown(description='user_id', options=(79961, 31226, 52853, 167471, 119517, 8066, 2820…"
      ]
     },
     "metadata": {},
     "output_type": "display_data"
    },
    {
     "name": "stdout",
     "output_type": "stream",
     "text": [
      "<function recomendar at 0x7a2a8f2a2e80>\n"
     ]
    }
   ],
   "source": [
    "#######################################################################\n",
    "#### 3 Sistema de recomendación basado en contenido KNN #################\n",
    "#### Con base en todo lo visto por el usuario #######################\n",
    "#######################################################################\n",
    "\n",
    "\n",
    "\n",
    "##### cargar data frame escalado y con dummies ###\n",
    "books_dum2= joblib.load('salidas/books_dum2.joblib')\n",
    "\n",
    "### carga data frame normal que tiene nombres de libros\n",
    "books=pd.read_sql('select * from books_final', conn )\n",
    "#books['year_pub']=books.year_pub.astype('int')\n",
    "\n",
    "\n",
    "\n",
    "#### seleccionar usuario para recomendaciones ####\n",
    "usuarios=pd.read_sql('select distinct (user_id) as user_id from ratings_final',conn)\n",
    "\n",
    "user_id=31226 ### para ejemplo manual\n",
    "\n",
    "\n",
    "def recomendar(user_id=list(usuarios['user_id'].value_counts().index)):\n",
    "\n",
    "    ###seleccionar solo los ratings del usuario seleccionado\n",
    "    ratings=pd.read_sql('select *from ratings_final where user_id=:user',conn, params={'user':user_id})\n",
    "\n",
    "    ###convertir ratings del usuario a array\n",
    "    l_books_r=ratings['isbn'].to_numpy()\n",
    "\n",
    "    ###agregar la columna de isbn y titulo del libro a dummie para filtrar y mostrar nombre\n",
    "    books_dum2[['isbn','book_title']]=books[['isbn','book_title']]\n",
    "\n",
    "    ### filtrar libros calificados por el usuario\n",
    "    books_r=books_dum2[books_dum2['isbn'].isin(l_books_r)]\n",
    "\n",
    "    ## eliminar columna nombre e isbn\n",
    "    books_r=books_r.drop(columns=['isbn','book_title'])\n",
    "    books_r[\"indice\"]=1 ### para usar group by y que quede en formato pandas tabla de centroide\n",
    "    ##centroide o perfil del usuario\n",
    "    centroide=books_r.groupby(\"indice\").mean()\n",
    "\n",
    "\n",
    "    ### filtrar libros no leídos\n",
    "    books_nr=books_dum2[~books_dum2['isbn'].isin(l_books_r)]\n",
    "    ## eliminbar nombre e isbn\n",
    "    books_nr=books_nr.drop(columns=['isbn','book_title'])\n",
    "\n",
    "    ### entrenar modelo\n",
    "    model=neighbors.NearestNeighbors(n_neighbors=11, metric='cosine')\n",
    "    model.fit(books_nr)\n",
    "    dist, idlist = model.kneighbors(centroide)\n",
    "\n",
    "    ids=idlist[0] ### queda en un array anidado, para sacarlo\n",
    "    recomend_b=books.loc[ids][['book_title','isbn']]\n",
    "    leidos=books[books['isbn'].isin(l_books_r)][['book_title','isbn']]\n",
    "\n",
    "    return recomend_b\n",
    "\n",
    "\n",
    "recomendar(52853)\n",
    "\n",
    "\n",
    "print(interact(recomendar))"
   ]
  },
  {
   "cell_type": "code",
   "execution_count": 14,
   "metadata": {
    "colab": {
     "base_uri": "https://localhost:8080/"
    },
    "executionInfo": {
     "elapsed": 15788,
     "status": "ok",
     "timestamp": 1746637362843,
     "user": {
      "displayName": "Juan Camilo España Lopera",
      "userId": "00562063450330724580"
     },
     "user_tz": 300
    },
    "id": "F7eE75a7tYZ4",
    "outputId": "1c80b6cd-a3d8-491a-f2db-e455f75d717f"
   },
   "outputs": [
    {
     "name": "stdout",
     "output_type": "stream",
     "text": [
      "Collecting lightfm\n",
      "  Downloading lightfm-1.17.tar.gz (316 kB)\n",
      "\u001b[?25l     \u001b[90m━━━━━━━━━━━━━━━━━━━━━━━━━━━━━━━━━━━━━━━━\u001b[0m \u001b[32m0.0/316.4 kB\u001b[0m \u001b[31m?\u001b[0m eta \u001b[36m-:--:--\u001b[0m\r",
      "\u001b[2K     \u001b[91m━━━━━━━━━━━━━━━━━\u001b[0m\u001b[91m╸\u001b[0m\u001b[90m━━━━━━━━━━━━━━━━━━━━━\u001b[0m \u001b[32m143.4/316.4 kB\u001b[0m \u001b[31m4.0 MB/s\u001b[0m eta \u001b[36m0:00:01\u001b[0m\r",
      "\u001b[2K     \u001b[90m━━━━━━━━━━━━━━━━━━━━━━━━━━━━━━━━━━━━━━━\u001b[0m \u001b[32m316.4/316.4 kB\u001b[0m \u001b[31m5.1 MB/s\u001b[0m eta \u001b[36m0:00:00\u001b[0m\n",
      "\u001b[?25h  Preparing metadata (setup.py) ... \u001b[?25l\u001b[?25hdone\n",
      "Requirement already satisfied: numpy in /usr/local/lib/python3.11/dist-packages (from lightfm) (2.0.2)\n",
      "Requirement already satisfied: scipy>=0.17.0 in /usr/local/lib/python3.11/dist-packages (from lightfm) (1.15.2)\n",
      "Requirement already satisfied: requests in /usr/local/lib/python3.11/dist-packages (from lightfm) (2.32.3)\n",
      "Requirement already satisfied: scikit-learn in /usr/local/lib/python3.11/dist-packages (from lightfm) (1.6.1)\n",
      "Requirement already satisfied: charset-normalizer<4,>=2 in /usr/local/lib/python3.11/dist-packages (from requests->lightfm) (3.4.1)\n",
      "Requirement already satisfied: idna<4,>=2.5 in /usr/local/lib/python3.11/dist-packages (from requests->lightfm) (3.10)\n",
      "Requirement already satisfied: urllib3<3,>=1.21.1 in /usr/local/lib/python3.11/dist-packages (from requests->lightfm) (2.4.0)\n",
      "Requirement already satisfied: certifi>=2017.4.17 in /usr/local/lib/python3.11/dist-packages (from requests->lightfm) (2025.4.26)\n",
      "Requirement already satisfied: joblib>=1.2.0 in /usr/local/lib/python3.11/dist-packages (from scikit-learn->lightfm) (1.4.2)\n",
      "Requirement already satisfied: threadpoolctl>=3.1.0 in /usr/local/lib/python3.11/dist-packages (from scikit-learn->lightfm) (3.6.0)\n",
      "Building wheels for collected packages: lightfm\n",
      "  Building wheel for lightfm (setup.py) ... \u001b[?25l\u001b[?25hdone\n",
      "  Created wheel for lightfm: filename=lightfm-1.17-cp311-cp311-linux_x86_64.whl size=831166 sha256=cac9b3d6beb1cf8a0b2422629236d643ba476c52ba4dc317bb7c22bac9bec25f\n",
      "  Stored in directory: /root/.cache/pip/wheels/b9/0d/8a/0729d2e6e3ca2a898ba55201f905da7db3f838a33df5b3fcdd\n",
      "Successfully built lightfm\n",
      "Installing collected packages: lightfm\n",
      "Successfully installed lightfm-1.17\n"
     ]
    }
   ],
   "source": [
    "#instalar lightfm para sistema de recomendación de filtro colaborativo\n",
    "\n",
    "\n",
    "!pip install lightfm\n"
   ]
  },
  {
   "cell_type": "code",
   "execution_count": 15,
   "metadata": {
    "executionInfo": {
     "elapsed": 17,
     "status": "ok",
     "timestamp": 1746637362862,
     "user": {
      "displayName": "Juan Camilo España Lopera",
      "userId": "00562063450330724580"
     },
     "user_tz": 300
    },
    "id": "o7uVIUo6pH3Z"
   },
   "outputs": [],
   "source": [
    "from lightfm import LightFM\n",
    "from lightfm.data import Dataset\n",
    "from lightfm.evaluation import auc_score\n",
    "from sklearn.model_selection import train_test_split\n",
    "#from scipy.sparse import coo_matrix\n",
    "#from sklearn.model_selection import GridSearchCV"
   ]
  },
  {
   "cell_type": "code",
   "execution_count": 16,
   "metadata": {
    "executionInfo": {
     "elapsed": 1191,
     "status": "ok",
     "timestamp": 1746637364066,
     "user": {
      "displayName": "Juan Camilo España Lopera",
      "userId": "00562063450330724580"
     },
     "user_tz": 300
    },
    "id": "AsiC_0sMt0sw"
   },
   "outputs": [],
   "source": [
    "ratings = pd.read_sql('SELECT * FROM full_ratings ', conn)\n",
    "\n",
    "#Crear data set en formato lightfm, primero lista de usuarios unicos y items únicos\n",
    "dataset_train = Dataset()\n",
    "dataset_test = Dataset()\n",
    "\n",
    "all_unique_users = ratings['user_id'].unique()\n",
    "all_unique_items = ratings['isbn'].unique()\n",
    "\n",
    "dataset_train.fit(users=all_unique_users, items=all_unique_items)\n",
    "dataset_test.fit(users=all_unique_users, items=all_unique_items)\n",
    "\n"
   ]
  },
  {
   "cell_type": "code",
   "execution_count": 17,
   "metadata": {
    "colab": {
     "base_uri": "https://localhost:8080/"
    },
    "executionInfo": {
     "elapsed": 94,
     "status": "ok",
     "timestamp": 1746637364159,
     "user": {
      "displayName": "Juan Camilo España Lopera",
      "userId": "00562063450330724580"
     },
     "user_tz": 300
    },
    "id": "HiknpsLJqt3U",
    "outputId": "19a5e693-d93a-4118-913e-6def1cce611c"
   },
   "outputs": [
    {
     "name": "stdout",
     "output_type": "stream",
     "text": [
      "[(2427, 1377)]\n",
      "2427 1377\n"
     ]
    }
   ],
   "source": [
    "\n",
    "## verificar que el data set creado tenga los mismos registros que base original\n",
    "cur.execute('SELECT count(distinct user_id), count (distinct isbn) FROM full_ratings ')\n",
    "print(cur.fetchall())\n",
    "\n",
    "num_users, num_items = dataset_train.interactions_shape()\n",
    "print(num_users, num_items)\n",
    "\n",
    "\n"
   ]
  },
  {
   "cell_type": "code",
   "execution_count": 18,
   "metadata": {
    "executionInfo": {
     "elapsed": 10005,
     "status": "ok",
     "timestamp": 1746637374173,
     "user": {
      "displayName": "Juan Camilo España Lopera",
      "userId": "00562063450330724580"
     },
     "user_tz": 300
    },
    "id": "5baMLidvScTa"
   },
   "outputs": [],
   "source": [
    "#### separar en train y test\n",
    "train_df, test_df = train_test_split(ratings, test_size=0.2, random_state=42)\n",
    "\n",
    "### para trabajar con el paquete light FM, se deben crear datos que crean consecutivos para cada usuario e item\n",
    "\n",
    "train_interactions_list = [(row['user_id'], row['isbn'], row['book_rating']) for index, row in train_df.iterrows()]\n",
    "\n",
    "train_interactions, train_weights = dataset_train.build_interactions(train_interactions_list)\n",
    "\n",
    "test_interactions_list = [(row['user_id'], row['isbn'], row['book_rating']) for index, row in test_df.iterrows()]\n",
    "test_interactions, test_weights = dataset_test.build_interactions(test_interactions_list)\n"
   ]
  },
  {
   "cell_type": "code",
   "execution_count": 19,
   "metadata": {
    "colab": {
     "base_uri": "https://localhost:8080/"
    },
    "executionInfo": {
     "elapsed": 9,
     "status": "ok",
     "timestamp": 1746637374175,
     "user": {
      "displayName": "Juan Camilo España Lopera",
      "userId": "00562063450330724580"
     },
     "user_tz": 300
    },
    "id": "MA2QjxlZy80U",
    "outputId": "18ee28d2-986b-4fed-c853-ee5d6557ef97"
   },
   "outputs": [
    {
     "name": "stdout",
     "output_type": "stream",
     "text": [
      "Shape of Interactions Matrix: (2427, 1377)\n",
      "Shape of Weights Matrix: (2427, 1377)\n",
      "Shape of Interactions Matrix: (2427, 1377)\n",
      "Shape of Weights Matrix: (2427, 1377)\n"
     ]
    }
   ],
   "source": [
    "print(f\"Shape of Interactions Matrix: {train_interactions.shape}\")\n",
    "print(f\"Shape of Weights Matrix: {train_weights.shape}\")\n",
    "print(f\"Shape of Interactions Matrix: {test_interactions.shape}\")\n",
    "print(f\"Shape of Weights Matrix: {test_weights.shape}\")"
   ]
  },
  {
   "cell_type": "code",
   "execution_count": 20,
   "metadata": {
    "colab": {
     "base_uri": "https://localhost:8080/"
    },
    "executionInfo": {
     "elapsed": 365,
     "status": "ok",
     "timestamp": 1746637374536,
     "user": {
      "displayName": "Juan Camilo España Lopera",
      "userId": "00562063450330724580"
     },
     "user_tz": 300
    },
    "id": "guHO60cLrkEN",
    "outputId": "4a1a66b5-b106-467a-842d-295898b3efcb"
   },
   "outputs": [
    {
     "name": "stdout",
     "output_type": "stream",
     "text": [
      "[[1 0 0 ... 0 0 0]\n",
      " [0 1 0 ... 0 0 0]\n",
      " [0 0 1 ... 0 0 0]\n",
      " ...\n",
      " [0 0 0 ... 0 0 0]\n",
      " [0 0 0 ... 0 0 0]\n",
      " [0 0 0 ... 0 0 0]]\n",
      "[[0 0 0 ... 0 0 0]\n",
      " [1 0 0 ... 0 0 0]\n",
      " [0 0 0 ... 0 0 0]\n",
      " ...\n",
      " [0 0 0 ... 0 0 0]\n",
      " [0 0 0 ... 0 0 0]\n",
      " [0 0 0 ... 0 0 0]]\n",
      "[[0. 0. 0. ... 0. 0. 0.]\n",
      " [0. 5. 0. ... 0. 0. 0.]\n",
      " [0. 0. 0. ... 0. 0. 0.]\n",
      " ...\n",
      " [0. 0. 0. ... 0. 0. 0.]\n",
      " [0. 0. 0. ... 0. 0. 0.]\n",
      " [0. 0. 0. ... 0. 0. 0.]]\n",
      "[[0. 0. 0. ... 0. 0. 0.]\n",
      " [0. 0. 0. ... 0. 0. 0.]\n",
      " [0. 0. 0. ... 0. 0. 0.]\n",
      " ...\n",
      " [0. 0. 0. ... 0. 0. 0.]\n",
      " [0. 0. 0. ... 0. 0. 0.]\n",
      " [0. 0. 0. ... 0. 0. 0.]]\n"
     ]
    }
   ],
   "source": [
    "#Este código es de verificación para mirar los datos cómo se estructuran\n",
    "train_int_array=train_interactions.toarray()\n",
    "train_weights_array=train_weights.toarray()\n",
    "\n",
    "test_int_array=test_interactions.toarray()\n",
    "test_weights_array=test_weights.toarray()\n",
    "\n",
    "print(train_int_array)\n",
    "print(test_int_array)\n",
    "\n",
    "print(train_weights_array)\n",
    "print(test_weights_array)\n",
    "\n"
   ]
  },
  {
   "cell_type": "code",
   "execution_count": 5,
   "metadata": {
    "executionInfo": {
     "elapsed": 4578,
     "status": "ok",
     "timestamp": 1746636591145,
     "user": {
      "displayName": "Juan Camilo España Lopera",
      "userId": "00562063450330724580"
     },
     "user_tz": 300
    },
    "id": "xnsyNA7InQWS"
   },
   "outputs": [],
   "source": [
    "!pip install --quiet optuna\n",
    "import optuna\n",
    "import time\n"
   ]
  },
  {
   "cell_type": "code",
   "execution_count": null,
   "metadata": {
    "colab": {
     "base_uri": "https://localhost:8080/"
    },
    "executionInfo": {
     "elapsed": 1560,
     "status": "ok",
     "timestamp": 1746535329886,
     "user": {
      "displayName": "Juan Camilo España Lopera",
      "userId": "00562063450330724580"
     },
     "user_tz": 300
    },
    "id": "csCCWUA8R8vR",
    "outputId": "aaf50d70-3b05-401a-ec8f-7a6203d31a77"
   },
   "outputs": [
    {
     "name": "stderr",
     "output_type": "stream",
     "text": [
      "Epoch: 100%|██████████| 20/20 [00:00<00:00, 27.15it/s]\n"
     ]
    },
    {
     "name": "stdout",
     "output_type": "stream",
     "text": [
      "AUC: train 0.68, test 0.63.\n"
     ]
    }
   ],
   "source": [
    "############# ajuste manual del modelo\n",
    "loss_model='logistic'  ## 'logistic', 'bpr', 'warp', 'warp-kos': este último solo sirve para implicitas\n",
    "\n",
    "model=LightFM(loss=loss_model, random_state=42)\n",
    "model.fit(train_interactions, epochs=20, verbose=True, sample_weight=train_weights)\n",
    "\n",
    "### auc por usuario\n",
    "train_auc = auc_score(model, train_interactions)\n",
    "test_auc = auc_score(model, test_interactions)\n",
    "\n",
    "\n",
    "print('AUC: train %.2f, test %.2f.' % (train_auc.mean(), test_auc.mean()))\n",
    "\n",
    "\n"
   ]
  },
  {
   "cell_type": "code",
   "execution_count": 39,
   "metadata": {
    "colab": {
     "base_uri": "https://localhost:8080/"
    },
    "executionInfo": {
     "elapsed": 48900,
     "status": "ok",
     "timestamp": 1746639369070,
     "user": {
      "displayName": "Juan Camilo España Lopera",
      "userId": "00562063450330724580"
     },
     "user_tz": 300
    },
    "id": "KSu0jDTupjfk",
    "outputId": "6e105523-7af0-4059-a863-858d85723f3e"
   },
   "outputs": [
    {
     "name": "stderr",
     "output_type": "stream",
     "text": [
      "[I 2025-05-07 17:35:20,130] A new study created in memory with name: no-name-270a4a7b-0270-4eb3-9743-a0f3ae087114\n"
     ]
    },
    {
     "name": "stdout",
     "output_type": "stream",
     "text": [
      "  Params: n_components=68, lr=0.0150, loss=bpr,  epochs=30\n"
     ]
    },
    {
     "name": "stderr",
     "output_type": "stream",
     "text": [
      "[I 2025-05-07 17:35:27,279] Trial 0 finished with value: 0.6034123301506042 and parameters: {'no_components': 68, 'learning_rate': 0.014997066146152848, 'loss': 'bpr', 'epochs': 30}. Best is trial 0 with value: 0.6034123301506042.\n"
     ]
    },
    {
     "name": "stdout",
     "output_type": "stream",
     "text": [
      "  Params: n_components=16, lr=0.0143, loss=warp,  epochs=13\n"
     ]
    },
    {
     "name": "stderr",
     "output_type": "stream",
     "text": [
      "[I 2025-05-07 17:35:28,188] Trial 1 finished with value: 0.622983455657959 and parameters: {'no_components': 16, 'learning_rate': 0.014268579175894507, 'loss': 'warp', 'epochs': 13}. Best is trial 1 with value: 0.622983455657959.\n"
     ]
    },
    {
     "name": "stdout",
     "output_type": "stream",
     "text": [
      "  Params: n_components=44, lr=0.0040, loss=warp,  epochs=25\n"
     ]
    },
    {
     "name": "stderr",
     "output_type": "stream",
     "text": [
      "[I 2025-05-07 17:35:31,448] Trial 2 finished with value: 0.621346652507782 and parameters: {'no_components': 44, 'learning_rate': 0.004016795087079966, 'loss': 'warp', 'epochs': 25}. Best is trial 1 with value: 0.622983455657959.\n"
     ]
    },
    {
     "name": "stdout",
     "output_type": "stream",
     "text": [
      "  Params: n_components=92, lr=0.0171, loss=bpr,  epochs=40\n"
     ]
    },
    {
     "name": "stderr",
     "output_type": "stream",
     "text": [
      "[I 2025-05-07 17:35:42,938] Trial 3 finished with value: 0.6105743646621704 and parameters: {'no_components': 92, 'learning_rate': 0.01713089799187466, 'loss': 'bpr', 'epochs': 40}. Best is trial 1 with value: 0.622983455657959.\n"
     ]
    },
    {
     "name": "stdout",
     "output_type": "stream",
     "text": [
      "  Params: n_components=64, lr=0.0119, loss=logistic,  epochs=34\n"
     ]
    },
    {
     "name": "stderr",
     "output_type": "stream",
     "text": [
      "[I 2025-05-07 17:35:47,327] Trial 4 finished with value: 0.6289636492729187 and parameters: {'no_components': 64, 'learning_rate': 0.011896368111523984, 'loss': 'logistic', 'epochs': 34}. Best is trial 4 with value: 0.6289636492729187.\n"
     ]
    },
    {
     "name": "stdout",
     "output_type": "stream",
     "text": [
      "  Params: n_components=37, lr=0.0195, loss=logistic,  epochs=11\n"
     ]
    },
    {
     "name": "stderr",
     "output_type": "stream",
     "text": [
      "[I 2025-05-07 17:35:49,114] Trial 5 finished with value: 0.6265143156051636 and parameters: {'no_components': 37, 'learning_rate': 0.01952026357537008, 'loss': 'logistic', 'epochs': 11}. Best is trial 4 with value: 0.6289636492729187.\n"
     ]
    },
    {
     "name": "stdout",
     "output_type": "stream",
     "text": [
      "  Params: n_components=90, lr=0.0102, loss=logistic,  epochs=29\n"
     ]
    },
    {
     "name": "stderr",
     "output_type": "stream",
     "text": [
      "[I 2025-05-07 17:35:54,774] Trial 6 finished with value: 0.6276041865348816 and parameters: {'no_components': 90, 'learning_rate': 0.010213612833539215, 'loss': 'logistic', 'epochs': 29}. Best is trial 4 with value: 0.6289636492729187.\n"
     ]
    },
    {
     "name": "stdout",
     "output_type": "stream",
     "text": [
      "  Params: n_components=38, lr=0.0040, loss=warp,  epochs=34\n"
     ]
    },
    {
     "name": "stderr",
     "output_type": "stream",
     "text": [
      "[I 2025-05-07 17:35:58,593] Trial 7 finished with value: 0.6298947930335999 and parameters: {'no_components': 38, 'learning_rate': 0.0039960769228934555, 'loss': 'warp', 'epochs': 34}. Best is trial 7 with value: 0.6298947930335999.\n"
     ]
    },
    {
     "name": "stdout",
     "output_type": "stream",
     "text": [
      "  Params: n_components=36, lr=0.0205, loss=warp,  epochs=21\n"
     ]
    },
    {
     "name": "stderr",
     "output_type": "stream",
     "text": [
      "[I 2025-05-07 17:36:01,322] Trial 8 finished with value: 0.6571308374404907 and parameters: {'no_components': 36, 'learning_rate': 0.02053831201977882, 'loss': 'warp', 'epochs': 21}. Best is trial 8 with value: 0.6571308374404907.\n"
     ]
    },
    {
     "name": "stdout",
     "output_type": "stream",
     "text": [
      "  Params: n_components=64, lr=0.0087, loss=bpr,  epochs=19\n"
     ]
    },
    {
     "name": "stderr",
     "output_type": "stream",
     "text": [
      "[I 2025-05-07 17:36:06,080] Trial 9 finished with value: 0.5631009340286255 and parameters: {'no_components': 64, 'learning_rate': 0.008664901891539676, 'loss': 'bpr', 'epochs': 19}. Best is trial 8 with value: 0.6571308374404907.\n"
     ]
    },
    {
     "name": "stdout",
     "output_type": "stream",
     "text": [
      "Best trial:\n",
      "  Value (Test AUC): 0.6571\n",
      "  Params: {'no_components': 36, 'learning_rate': 0.02053831201977882, 'loss': 'warp', 'epochs': 21}\n"
     ]
    },
    {
     "name": "stderr",
     "output_type": "stream",
     "text": [
      "Epoch: 100%|██████████| 21/21 [00:02<00:00,  9.96it/s]\n"
     ]
    },
    {
     "name": "stdout",
     "output_type": "stream",
     "text": [
      "Final Model AUC: train 0.7469, test 0.6571.\n"
     ]
    }
   ],
   "source": [
    "#### para afinar hiperparámetros con optuna\n",
    "\n",
    "def objective(trial):\n",
    "\n",
    "    # grilla de hiperparámetros\n",
    "    n_components = trial.suggest_int('no_components', 10, 100)       # Sugiere un entero para el número de componentes latentes (dimensionalidad del modelo).\n",
    "    learning_rate = trial.suggest_float('learning_rate', 0.001, 0.1, log=True) # Sugiere un flotante (en escala logarítmica) para la tasa de aprendizaje del optimizador.\n",
    "    loss = trial.suggest_categorical('loss', ['logistic', 'bpr', 'warp']) # Sugiere un valor categórico para la función de pérdida ('logistic', 'bpr' o 'warp').\n",
    "    epochs = trial.suggest_int('epochs', 10, 50)                     # Sugiere un entero para el número de épocas de entrenamiento.\n",
    "\n",
    "    print(f\"  Params: n_components={n_components}, lr={learning_rate:.4f}, loss={loss},  epochs={epochs}\")\n",
    "\n",
    "    # Modelo con parámetros sugeridos\n",
    "    model = LightFM(\n",
    "        no_components=n_components,\n",
    "        learning_rate=learning_rate,\n",
    "        loss=loss,\n",
    "\n",
    "        random_state=42\n",
    "    )\n",
    "\n",
    "\n",
    "    model.fit(train_interactions,\n",
    "              epochs=epochs,\n",
    "              verbose=False,\n",
    "              sample_weight=train_weights)\n",
    "\n",
    "    test_auc = auc_score(model, test_interactions).mean()\n",
    "\n",
    "\n",
    "\n",
    "    return test_auc\n",
    "\n",
    "\n",
    "study = optuna.create_study(direction='maximize')\n",
    "study.optimize(objective, n_trials=10) # You can adjust the number of trials\n",
    "\n",
    "#Resultados\n",
    "print(f\"Best trial:\")\n",
    "print(f\"  Value (Test AUC): {study.best_value:.4f}\")\n",
    "print(f\"  Params: {study.best_params}\")\n",
    "\n",
    "#Entrenar modelo con mejores hyperparametros\n",
    "best_params = study.best_params\n",
    "\n",
    "\n",
    "model = LightFM(\n",
    "    no_components=best_params['no_components'],\n",
    "    learning_rate=best_params['learning_rate'],\n",
    "    loss=best_params['loss'],\n",
    "    random_state=42\n",
    ")\n",
    "\n",
    "\n",
    "model.fit(train_interactions,\n",
    "                epochs=best_params['epochs'],\n",
    "                verbose=True, # Set to True to see progress\n",
    "                sample_weight=train_weights)\n",
    "\n",
    "\n",
    "### resultado final\n",
    "train_auc = auc_score(model, train_interactions).mean()\n",
    "test_auc = auc_score(model, test_interactions).mean()\n",
    "\n",
    "print('Final Model AUC: train %.4f, test %.4f.' % (train_auc, test_auc))"
   ]
  },
  {
   "cell_type": "code",
   "execution_count": 53,
   "metadata": {
    "colab": {
     "base_uri": "https://localhost:8080/"
    },
    "executionInfo": {
     "elapsed": 38,
     "status": "ok",
     "timestamp": 1746639777573,
     "user": {
      "displayName": "Juan Camilo España Lopera",
      "userId": "00562063450330724580"
     },
     "user_tz": 300
    },
    "id": "OGMcWxCTpHrW",
    "outputId": "ba83d351-3b22-4df2-fe9a-d98433efc534"
   },
   "outputs": [
    {
     "data": {
      "text/plain": [
       "[(np.int64(31226), 0),\n",
       " (np.int64(52853), 1),\n",
       " (np.int64(167471), 2),\n",
       " (np.int64(119517), 3),\n",
       " (np.int64(8066), 4),\n",
       " (np.int64(28204), 5),\n",
       " (np.int64(28619), 6),\n",
       " (np.int64(113519), 7),\n",
       " (np.int64(179733), 8),\n",
       " (np.int64(152186), 9)]"
      ]
     },
     "execution_count": 53,
     "metadata": {},
     "output_type": "execute_result"
    }
   ],
   "source": [
    "list(dataset_train.mapping()[0].items())[0:10] ### para  mapeo de primerios 10 codigos originales a codigos del modelo"
   ]
  },
  {
   "cell_type": "code",
   "execution_count": 54,
   "metadata": {
    "collapsed": true,
    "executionInfo": {
     "elapsed": 4,
     "status": "ok",
     "timestamp": 1746639810300,
     "user": {
      "displayName": "Juan Camilo España Lopera",
      "userId": "00562063450330724580"
     },
     "user_tz": 300
    },
    "id": "bmvSTqHSeJO7"
   },
   "outputs": [],
   "source": [
    "def recommendation(model, data, original_user_id, conn,k):\n",
    "\n",
    "  #data=dataset_train\n",
    "  #original_user_id=52853\n",
    "\n",
    "  ## libros no leidos y códigos\n",
    "  df_nr_books=pd.read_sql(f'select * from full_ratings where user_id<>{original_user_id}',conn)\n",
    "  isbn_nr_books=df_nr_books['isbn'].values\n",
    "  item_id_nr=[value for key, value in data.mapping()[2].items() if value not in isbn_nr_books]\n",
    "\n",
    "  uid_index=data.mapping()[0][original_user_id] ## id usuario según modelo\n",
    "\n",
    "  scores=model.predict(uid_index, item_id_nr)\n",
    "  sorted_indices = np.argsort(-scores).tolist()\n",
    "\n",
    "  top_items = [key for key, value in data.mapping()[2].items() if value in sorted_indices[:k]]\n",
    "  recommended=df_nr_books[df_nr_books['isbn'].isin(top_items)][['isbn', 'book_title']]\n",
    "  recommended.drop_duplicates(inplace=True)\n",
    "\n",
    "  return recommended\n"
   ]
  },
  {
   "cell_type": "code",
   "execution_count": null,
   "metadata": {
    "id": "He00n1WN1PBb"
   },
   "outputs": [],
   "source": [
    "recommendation(model, dataset_train,92652, conn, 10)"
   ]
  },
  {
   "cell_type": "code",
   "execution_count": null,
   "metadata": {
    "id": "yBZvXD_oRvas"
   },
   "outputs": [],
   "source": [
    "import nbformat\n",
    "\n",
    "# Path to your notebook\n",
    "input_notebook = 'd_modelos2.ipynb'\n",
    "output_notebook = 'd_modelos22.ipynb'\n",
    "\n",
    "# Load the notebook\n",
    "with open(input_notebook, 'r') as f:\n",
    "    notebook = nbformat.read(f, as_version=4)\n",
    "\n",
    "# Check if the notebook has 'metadata.widgets' and remove it\n",
    "if 'widgets' in notebook.metadata:\n",
    "    del notebook.metadata['widgets']  # Removes widgets metadata completely\n",
    "\n",
    "# Alternatively, if you want to add a 'state' key inside 'widgets', do this:\n",
    "# if 'widgets' in notebook.metadata:\n",
    "#     notebook.metadata['widgets']['state'] = {}\n",
    "\n",
    "# Save the modified notebook\n",
    "with open(output_notebook, 'w') as f:\n",
    "    nbformat.write(notebook, f)\n",
    "\n",
    "print(f\"Fixed notebook saved as {output_notebook}\")\n"
   ]
  }
 ],
 "metadata": {
  "colab": {
   "authorship_tag": "ABX9TyOCVjEWh9bzlev3gxAqSSlF",
   "provenance": []
  },
  "kernelspec": {
   "display_name": "Python 3",
   "name": "python3"
  },
  "language_info": {
   "name": "python"
  }
 },
 "nbformat": 4,
 "nbformat_minor": 0
}
